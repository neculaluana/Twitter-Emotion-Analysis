{
  "cells": [
    {
      "cell_type": "markdown",
      "metadata": {
        "colab_type": "text",
        "id": "view-in-github"
      },
      "source": [
        "<a href=\"https://colab.research.google.com/github/neculaluana/Twitter-emotion-analysis/blob/main/emotion_analysis.ipynb\" target=\"_parent\"><img src=\"https://colab.research.google.com/assets/colab-badge.svg\" alt=\"Open In Colab\"/></a>"
      ]
    },
    {
      "cell_type": "code",
      "execution_count": 3,
      "metadata": {
        "id": "i8U9jQtfR7In"
      },
      "outputs": [],
      "source": [
        "import pandas as pd\n",
        "import numpy as np\n",
        "import re\n",
        "import torch\n",
        "import plotly.express as px\n",
        "\n",
        "from google.colab import drive\n",
        "from datasets import Dataset, DatasetDict, Features, Value, ClassLabel\n",
        "from sklearn.model_selection import train_test_split\n",
        "from sklearn.metrics import accuracy_score, f1_score\n",
        "from transformers import DataCollatorWithPadding\n",
        "from transformers import DistilBertTokenizerFast, DistilBertForSequenceClassification, Trainer, TrainingArguments\n",
        "from transformers import pipeline"
      ]
    },
    {
      "cell_type": "code",
      "execution_count": null,
      "metadata": {},
      "outputs": [],
      "source": [
        "df_train = pd.read_csv('https://raw.githubusercontent.com/neculaluana/Twitter-emotion-analysis/main/input/training.csv?token=GHSAT0AAAAAACBUYC47QMRBYGX5L5L7H6FGZCBAPEA')\n",
        "df_test = pd.read_csv('https://raw.githubusercontent.com/neculaluana/Twitter-emotion-analysis/main/input/test.csv?token=GHSAT0AAAAAACBUYC477ZGWJ43J7OLYWPVGZCBAM7Q')\n",
        "df_valid = pd.read_csv('https://raw.githubusercontent.com/neculaluana/Twitter-emotion-analysis/main/input/validation.csv?token=GHSAT0AAAAAACBUYC47FCWVRUS45ZFJAQOYZCBAQDA')"
      ]
    },
    {
      "cell_type": "code",
      "execution_count": null,
      "metadata": {
        "colab": {
          "base_uri": "https://localhost:8080/"
        },
        "id": "mCjElxq2R_Uu",
        "outputId": "9c2393a9-d6ce-4185-e52b-86593133ad11"
      },
      "outputs": [],
      "source": [
        "def clean_tweet(tweet):\n",
        "\n",
        "  tweet = re.sub(r'https?://[^ ]+', '', str(tweet))      #removes links\n",
        "  tweet = re.sub(r'@[^ ]+', '', str(tweet))              #removes mentions\n",
        "  tweet = re.sub(r'#', '', str(tweet))                   #removes hashtag symbol\n",
        "  tweet = re.sub(r'([A-Za-z])\\1{2,}', r'\\1', str(tweet)) #removes repeated characters ex: heeeeeeey\n",
        "  tweet = re.sub(r'[^A-Za-z ]', '', str(tweet))          #removes unwanted characters and punctuation\n",
        "  tweet = re.sub(r' 0 ', 'zero', str(tweet))             #transforms 0 to zero (it can influence emotion)\n",
        "  tweet = tweet.lower()                                  #lower-casing\n",
        "  return tweet"
      ]
    },
    {
      "cell_type": "code",
      "execution_count": null,
      "metadata": {
        "id": "oXnTyAaFe7yE"
      },
      "outputs": [],
      "source": [
        "df = pd.concat([df_train, df_valid, df_test], ignore_index=True, sort=False)\n",
        "df[\"text\"]=df[\"text\"].apply(lambda text: clean_tweet(text))\n",
        "print(df)"
      ]
    },
    {
      "cell_type": "code",
      "execution_count": null,
      "metadata": {},
      "outputs": [],
      "source": [
        "emotion_names = ['sadness', 'joy', 'love', 'anger', 'fear', 'surprise']\n",
        "custom_features = Features({\n",
        "    'text': Value(dtype='string'),\n",
        "    'label': ClassLabel(names=emotion_names)\n",
        "})\n",
        "\n",
        "\"\"\"emotions_full = DatasetDict({\n",
        "    \"train\": Dataset.from_pandas(df_train,features=custom_features),\n",
        "    \"test\": Dataset.from_pandas(df_test,features=custom_features),\n",
        "    \"validation\": Dataset.from_pandas(df_valid,features=custom_features)\n",
        "    })\n",
        "\n",
        "\"\"\"\n",
        "emotions_full_dataset = Dataset.from_pandas(df, features=custom_features)\n",
        "data_column=emotions_full_dataset [\"text\"]\n",
        "label_column=emotions_full_dataset [\"label\"]\n",
        "\n",
        "\n",
        "X_train, X_val, y_train, y_val = train_test_split(data_column, label_column, test_size=0.4, random_state=42)\n",
        "X_val, X_test, y_val, y_test = train_test_split(X_train, y_train, test_size=0.5, random_state=42)\n",
        "\n",
        "dataset = DatasetDict({\"train\": Dataset.from_dict({\"text\": X_train, \"label\": y_train}),\n",
        "                        \"validation\": Dataset.from_dict({\"text\": X_val, \"label\": y_val}),\n",
        "                        \"test\": Dataset.from_dict({\"text\": X_test, \"label\": y_test})})"
      ]
    },
    {
      "cell_type": "code",
      "execution_count": null,
      "metadata": {},
      "outputs": [],
      "source": [
        "tokenizer = DistilBertTokenizerFast.from_pretrained('distilbert-base-uncased')\n",
        "\n",
        "def tokenize(batch):\n",
        "    return tokenizer(batch['text'], padding=True, truncation=True)\n",
        "\n",
        "tokenized_datasets = dataset.map(tokenize, batched=True, batch_size=None)\n",
        "data_collator = DataCollatorWithPadding(tokenizer=tokenizer)"
      ]
    },
    {
      "cell_type": "code",
      "execution_count": null,
      "metadata": {},
      "outputs": [],
      "source": [
        "drive.mount('/content/gdrive')\n",
        "device = torch.device(\"cuda\" if torch.cuda.is_available() else \"cpu\")\n",
        "model = DistilBertForSequenceClassification.from_pretrained('distilbert-base-uncased', num_labels=6).to(device)"
      ]
    }
  ],
  "metadata": {
    "colab": {
      "authorship_tag": "ABX9TyP6PyW90UkFOxzGyWsOqhnu",
      "include_colab_link": true,
      "provenance": []
    },
    "kernelspec": {
      "display_name": "Python 3",
      "name": "python3"
    },
    "language_info": {
      "name": "python"
    }
  },
  "nbformat": 4,
  "nbformat_minor": 0
}
